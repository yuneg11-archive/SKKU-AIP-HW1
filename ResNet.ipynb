{
 "cells": [
  {
   "cell_type": "markdown",
   "metadata": {
    "id": "wwr9Je98HUWa",
    "colab_type": "text"
   },
   "source": [
    "# Load Data"
   ]
  },
  {
   "cell_type": "code",
   "execution_count": 0,
   "metadata": {
    "id": "0wYrTYsbaJzb",
    "colab_type": "code",
    "cellView": "form",
    "colab": {}
   },
   "outputs": [],
   "source": [
    "#@title ## Load CIFAR10 Data\n",
    "#@markdown ### Train data: 50000 samples\n",
    "#@markdown * Input shape: (32, 32, 3)\n",
    "#@markdown * Label shape: (10)\n",
    "#@markdown ### Train data: 10000 samples\n",
    "#@markdown * Input shape: (32, 32, 3)\n",
    "#@markdown * Label shape: (10)\n",
    "\n",
    "from keras.datasets import cifar10\n",
    "import numpy as np\n",
    "\n",
    "(x_train, y_train), (x_test, y_test) = cifar10.load_data()\n",
    "\n",
    "y_train = np.squeeze(np.eye(10)[y_train] ,axis=1)\n",
    "y_test = np.squeeze(np.eye(10)[y_test] ,axis=1)"
   ]
  },
  {
   "cell_type": "markdown",
   "metadata": {
    "id": "JYkrNkdzHOuD",
    "colab_type": "text"
   },
   "source": [
    "# Build Model"
   ]
  },
  {
   "cell_type": "code",
   "execution_count": 0,
   "metadata": {
    "id": "uSDnmn7Z-j1p",
    "colab_type": "code",
    "cellView": "form",
    "colab": {}
   },
   "outputs": [],
   "source": [
    "#@title ## 1. Define Layer\n",
    "#@markdown * ### PlaceHolder (shape, name=None)\n",
    "#@markdown * ### Conv2D (input_layer, input_channel, output_channel, name='conv2d')\n",
    "#@markdown * ### BatchNormalization (input_layer, name='batch_normalization')\n",
    "#@markdown * ### Activation (input_layer, name='activation')\n",
    "#@markdown * ### Add (input_layer1, input_layer2, name='add')\n",
    "#@markdown * ### MaxPool (input_layer, name='max_pool')\n",
    "#@markdown * ### AvgPool (input_layer, name='avg_pool')\n",
    "#@markdown * ### Flatten (input_layer, name='flatten')\n",
    "#@markdown * ### Dense (input_layer, units, name='dense')\n",
    "#@markdown * ### Softmax (input_layer, name='softmax')\n",
    "#@markdown * ### LayerSummary (layer)\n",
    "\n",
    "import tensorflow as tf\n",
    "\n",
    "def PlaceHolder(shape, name=None):\n",
    "    return tf.placeholder(tf.float32, shape=[None] + shape, name=name)\n",
    "\n",
    "def Conv2D(input_layer, input_channel, output_channel, name='conv2d'):\n",
    "    conv2d_filter = tf.Variable(tf.random.normal([3, 3, input_channel, output_channel], stddev=0.01))\n",
    "    return tf.nn.conv2d(input_layer, filter=conv2d_filter, strides=[1, 1, 1, 1], padding='SAME', name=name)\n",
    "\n",
    "def BatchNormalization(input_layer, name='batch_normalization'):\n",
    "    return tf.layers.batch_normalization(input_layer, center=True, scale=True, training=True, name=name)\n",
    "\n",
    "def Activation(input_layer, name='activation'):\n",
    "    return tf.nn.relu(input_layer, name=name)\n",
    "\n",
    "def Add(input_layer1, input_layer2, name='add'):\n",
    "    return tf.add(input_layer1, input_layer2, name=name)\n",
    "\n",
    "def MaxPool(input_layer, name='max_pool'):\n",
    "    return tf.nn.max_pool(input_layer, ksize=[1, 2, 2, 1], strides=[1, 2, 2, 1], padding='SAME', name=name)\n",
    "\n",
    "def AvgPool(input_layer, name='avg_pool'):\n",
    "    return tf.nn.avg_pool(input_layer, ksize=[1, 8, 8, 1], strides=[1, 8, 8, 1], padding='SAME', name=name)\n",
    "\n",
    "def Flatten(input_layer, name='flatten'):\n",
    "    return tf.layers.flatten(input_layer, name=name)\n",
    "\n",
    "def Dense(input_layer, units, name='dense'):\n",
    "    return tf.layers.dense(input_layer, units=units, name=name)\n",
    "\n",
    "def Softmax(input_layer, name='softmax'):\n",
    "    return tf.nn.softmax(input_layer, name=name)\n",
    "\n",
    "def LayerSummary(layers):\n",
    "    for layer in layers:\n",
    "        print(\"%-25s %-20s\" % (layer.name.split(':')[0].split('/')[0], layer.shape))"
   ]
  },
  {
   "cell_type": "code",
   "execution_count": 0,
   "metadata": {
    "id": "IS6vuovfsPSt",
    "colab_type": "code",
    "cellView": "form",
    "colab": {}
   },
   "outputs": [],
   "source": [
    "#@title ## 2. Define CNN Block\n",
    "#@markdown 1. ### InputLayer → Conv2D_1\n",
    "#@markdown 2. ### Conv2D_1 → BatchNormalization_1\n",
    "#@markdown 3. ### BatchNormalization_1 → Activation_1\n",
    "#@markdown 4. ### Activation_1 → Conv2D_2\n",
    "#@markdown 5. ### Conv2D_2 → BatchNormalization_2\n",
    "#@markdown 6. ### BatchNormalization_2 → Activation_2\n",
    "#@markdown 7. ### Activation_2 → Conv2D_3\n",
    "#@markdown 8. ### Conv2D_3 → BatchNormalization_3\n",
    "#@markdown 9. ### Activation_1 + BatchNormalization_3 → Add\n",
    "#@markdown 10. ### Add → Activation_3 = OutputLayer\n",
    "\n",
    "\n",
    "def CNNBlock(input_layer, input_channel, output_channel, block_index=0):\n",
    "    b1x1 = block_index\n",
    "    b1x3 = block_index * 3\n",
    "    \n",
    "    x1 = Conv2D(input_layer, input_channel, output_channel, name='conv2d_'+str(b1x3+1))\n",
    "    x2 = BatchNormalization(x1, name='batch_normalization_'+str(b1x3+1))\n",
    "    x3 = Activation(x2, name='activation_'+str(b1x3+1))\n",
    "\n",
    "    x4 = Conv2D(x3, output_channel, output_channel, name='conv2d_'+str(b1x3+2))\n",
    "    x5 = BatchNormalization(x4, name='batch_normalization_'+str(b1x3+2))\n",
    "    x6 = Activation(x5, name='activation_'+str(b1x3+2))\n",
    "\n",
    "    x7 = Conv2D(x6, output_channel, output_channel, name='conv2d_'+str(b1x3+3))\n",
    "    x8 = BatchNormalization(x7, name='batch_normalization_'+str(b1x3+3))\n",
    "    x9 = Add(x3, x8, name='add_'+str(b1x1+1))\n",
    "    x10 = Activation(x9, name='activation_'+str(b1x3+3))\n",
    "    \n",
    "    LayerSummary([x1, x2, x3, x4, x5, x6, x7, x8, x9, x10])\n",
    "    return x10"
   ]
  },
  {
   "cell_type": "code",
   "execution_count": 0,
   "metadata": {
    "id": "6lqac1jh0bg5",
    "colab_type": "code",
    "cellView": "form",
    "outputId": "4cc899f1-86e7-4ec5-ab96-92bfd93c7828",
    "colab": {
     "base_uri": "https://localhost:8080/",
     "height": 958.0
    }
   },
   "outputs": [
    {
     "name": "stdout",
     "output_type": "stream",
     "text": [
      "input_1                   (?, 32, 32, 3)      \n",
      "\n",
      "WARNING:tensorflow:From /usr/local/lib/python3.6/dist-packages/tensorflow/python/framework/op_def_library.py:263: colocate_with (from tensorflow.python.framework.ops) is deprecated and will be removed in a future version.\n",
      "Instructions for updating:\n",
      "Colocations handled automatically by placer.\n",
      "WARNING:tensorflow:From <ipython-input-2-63aca7fe68a6>:12: batch_normalization (from tensorflow.python.layers.normalization) is deprecated and will be removed in a future version.\n",
      "Instructions for updating:\n",
      "Use keras.layers.batch_normalization instead.\n",
      "conv2d_1                  (?, 32, 32, 16)     \n",
      "batch_normalization_1     (?, 32, 32, 16)     \n",
      "activation_1              (?, 32, 32, 16)     \n",
      "conv2d_2                  (?, 32, 32, 16)     \n",
      "batch_normalization_2     (?, 32, 32, 16)     \n",
      "activation_2              (?, 32, 32, 16)     \n",
      "conv2d_3                  (?, 32, 32, 16)     \n",
      "batch_normalization_3     (?, 32, 32, 16)     \n",
      "add_1                     (?, 32, 32, 16)     \n",
      "activation_3              (?, 32, 32, 16)     \n",
      "max_pool_1                (?, 16, 16, 16)     \n",
      "\n",
      "conv2d_4                  (?, 16, 16, 32)     \n",
      "batch_normalization_4     (?, 16, 16, 32)     \n",
      "activation_4              (?, 16, 16, 32)     \n",
      "conv2d_5                  (?, 16, 16, 32)     \n",
      "batch_normalization_5     (?, 16, 16, 32)     \n",
      "activation_5              (?, 16, 16, 32)     \n",
      "conv2d_6                  (?, 16, 16, 32)     \n",
      "batch_normalization_6     (?, 16, 16, 32)     \n",
      "add_2                     (?, 16, 16, 32)     \n",
      "activation_6              (?, 16, 16, 32)     \n",
      "max_pool_2                (?, 8, 8, 32)       \n",
      "\n",
      "conv2d_7                  (?, 8, 8, 64)       \n",
      "batch_normalization_7     (?, 8, 8, 64)       \n",
      "activation_7              (?, 8, 8, 64)       \n",
      "conv2d_8                  (?, 8, 8, 64)       \n",
      "batch_normalization_8     (?, 8, 8, 64)       \n",
      "activation_8              (?, 8, 8, 64)       \n",
      "conv2d_9                  (?, 8, 8, 64)       \n",
      "batch_normalization_9     (?, 8, 8, 64)       \n",
      "add_3                     (?, 8, 8, 64)       \n",
      "activation_9              (?, 8, 8, 64)       \n",
      "avg_pool_1                (?, 1, 1, 64)       \n",
      "\n",
      "WARNING:tensorflow:From <ipython-input-2-63aca7fe68a6>:27: flatten (from tensorflow.python.layers.core) is deprecated and will be removed in a future version.\n",
      "Instructions for updating:\n",
      "Use keras.layers.flatten instead.\n",
      "WARNING:tensorflow:From <ipython-input-2-63aca7fe68a6>:30: dense (from tensorflow.python.layers.core) is deprecated and will be removed in a future version.\n",
      "Instructions for updating:\n",
      "Use keras.layers.dense instead.\n",
      "flatten_1                 (?, 64)             \n",
      "dense_1                   (?, 10)             \n",
      "softmax_1                 (?, 10)             \n"
     ]
    }
   ],
   "source": [
    "#@title ## 3. Define Model\n",
    "#@markdown 1. ### Input → CNNBlock_1\n",
    "#@markdown 2. ### CNNBlock_1 → MaxPool_1\n",
    "#@markdown 3. ### MaxPool_1 → CNNBlock_2\n",
    "#@markdown 4. ### CNNBlock_2 → MaxPool_2\n",
    "#@markdown 5. ### MaxPool_2 → CNNBlock_3\n",
    "#@markdown 6. ### CNNBlock_3 → Flatten\n",
    "#@markdown 7. ### Flatten → Dense\n",
    "#@markdown 8. ### Dense → Softmax = Output\n",
    "\n",
    "tf.reset_default_graph()\n",
    "\n",
    "input_1 = PlaceHolder([32, 32, 3], name='input_1')\n",
    "LayerSummary([input_1])\n",
    "print()\n",
    "\n",
    "cnn_output_1 = CNNBlock(input_1, input_channel=3, output_channel=16, block_index=0)\n",
    "max_pool_1 = MaxPool(cnn_output_1, name='max_pool_1')\n",
    "LayerSummary([max_pool_1])\n",
    "print()\n",
    "\n",
    "cnn_output_2 = CNNBlock(max_pool_1, input_channel=16, output_channel=32, block_index=1)\n",
    "max_pool_2 = MaxPool(cnn_output_2, name='max_pool_2')\n",
    "LayerSummary([max_pool_2])\n",
    "print()\n",
    "\n",
    "cnn_output_3 = CNNBlock(max_pool_2, input_channel=32, output_channel=64, block_index=2)\n",
    "avg_pool_1 = AvgPool(cnn_output_3, name='avg_pool_1')\n",
    "LayerSummary([avg_pool_1])\n",
    "print()\n",
    "\n",
    "flatten_1 = Flatten(avg_pool_1, name='flatten_1')\n",
    "dense_1 = Dense(flatten_1, units=10, name='dense_1')\n",
    "output_1 = Softmax(dense_1, name='softmax_1')\n",
    "LayerSummary([flatten_1, dense_1, output_1])\n",
    "\n",
    "label = PlaceHolder([10], name='label')"
   ]
  },
  {
   "cell_type": "code",
   "execution_count": 0,
   "metadata": {
    "id": "sqzl00qN7DY5",
    "colab_type": "code",
    "cellView": "form",
    "colab": {}
   },
   "outputs": [],
   "source": [
    "#@title ## 4. Define Cost, Optimizer, and Accuracy\n",
    "#@markdown * ### Cost: Categorical Crossentropy\n",
    "#@markdown * ### Optimizer: Adam (Learning rate = 0.001)\n",
    "#@markdown * ### Accuracy\n",
    "\n",
    "cost = tf.reduce_mean(-tf.reduce_sum(label * tf.log(tf.clip_by_value(output_1, 1e-10, 1.0)), [1]))\n",
    "optimizer = tf.train.AdamOptimizer(0.001).minimize(cost)\n",
    "is_correct = tf.equal(tf.argmax(label, 1), tf.argmax(output_1, 1))\n",
    "accuracy = tf.reduce_mean(tf.cast(is_correct, tf.float32))"
   ]
  },
  {
   "cell_type": "markdown",
   "metadata": {
    "id": "hzpS1A6BHcTn",
    "colab_type": "text"
   },
   "source": [
    "# Train Model"
   ]
  },
  {
   "cell_type": "code",
   "execution_count": 0,
   "metadata": {
    "id": "yBQyVMya8-s6",
    "colab_type": "code",
    "outputId": "e754829c-6aca-42ee-a137-f2cb7447ddc2",
    "cellView": "form",
    "colab": {
     "base_uri": "https://localhost:8080/",
     "height": 561.0
    }
   },
   "outputs": [
    {
     "name": "stdout",
     "output_type": "stream",
     "text": [
      "Training start...\n",
      "Epoch: 0001 - Avg. cost: 1.297, Train Acc.: 0.6100, Test Acc.: 0.6492\n",
      "Epoch: 0002 - Avg. cost: 0.904, Train Acc.: 0.6600, Test Acc.: 0.7162\n",
      "Epoch: 0003 - Avg. cost: 0.741, Train Acc.: 0.7000, Test Acc.: 0.7460\n",
      "Epoch: 0004 - Avg. cost: 0.644, Train Acc.: 0.7200, Test Acc.: 0.7650\n",
      "Epoch: 0005 - Avg. cost: 0.570, Train Acc.: 0.7500, Test Acc.: 0.7828\n",
      "Epoch: 0006 - Avg. cost: 0.513, Train Acc.: 0.7700, Test Acc.: 0.7885\n",
      "Epoch: 0007 - Avg. cost: 0.468, Train Acc.: 0.8100, Test Acc.: 0.7909\n",
      "Epoch: 0008 - Avg. cost: 0.429, Train Acc.: 0.8100, Test Acc.: 0.7955\n",
      "Epoch: 0009 - Avg. cost: 0.392, Train Acc.: 0.8400, Test Acc.: 0.7939\n",
      "Epoch: 0010 - Avg. cost: 0.358, Train Acc.: 0.8500, Test Acc.: 0.7936\n",
      "Epoch: 0011 - Avg. cost: 0.329, Train Acc.: 0.8800, Test Acc.: 0.7915\n",
      "Epoch: 0012 - Avg. cost: 0.303, Train Acc.: 0.8800, Test Acc.: 0.7941\n",
      "Epoch: 0013 - Avg. cost: 0.273, Train Acc.: 0.8900, Test Acc.: 0.7939\n",
      "Epoch: 0014 - Avg. cost: 0.246, Train Acc.: 0.8800, Test Acc.: 0.7956\n",
      "Epoch: 0015 - Avg. cost: 0.223, Train Acc.: 0.9300, Test Acc.: 0.7898\n",
      "Epoch: 0016 - Avg. cost: 0.204, Train Acc.: 0.9500, Test Acc.: 0.7888\n",
      "Epoch: 0017 - Avg. cost: 0.189, Train Acc.: 0.9400, Test Acc.: 0.7921\n",
      "Epoch: 0018 - Avg. cost: 0.174, Train Acc.: 0.9400, Test Acc.: 0.7922\n",
      "Epoch: 0019 - Avg. cost: 0.164, Train Acc.: 0.9200, Test Acc.: 0.7889\n",
      "Epoch: 0020 - Avg. cost: 0.148, Train Acc.: 0.9600, Test Acc.: 0.7913\n",
      "Epoch: 0021 - Avg. cost: 0.139, Train Acc.: 0.9600, Test Acc.: 0.7928\n",
      "Epoch: 0022 - Avg. cost: 0.119, Train Acc.: 0.9300, Test Acc.: 0.7909\n",
      "Epoch: 0023 - Avg. cost: 0.112, Train Acc.: 0.9600, Test Acc.: 0.7927\n",
      "Epoch: 0024 - Avg. cost: 0.107, Train Acc.: 0.9700, Test Acc.: 0.7968\n",
      "Epoch: 0025 - Avg. cost: 0.102, Train Acc.: 0.9500, Test Acc.: 0.7970\n",
      "Epoch: 0026 - Avg. cost: 0.091, Train Acc.: 0.9500, Test Acc.: 0.7967\n",
      "Epoch: 0027 - Avg. cost: 0.086, Train Acc.: 0.9800, Test Acc.: 0.7925\n",
      "Epoch: 0028 - Avg. cost: 0.082, Train Acc.: 0.9900, Test Acc.: 0.7955\n",
      "Epoch: 0029 - Avg. cost: 0.078, Train Acc.: 0.9600, Test Acc.: 0.7974\n",
      "Epoch: 0030 - Avg. cost: 0.077, Train Acc.: 1.0000, Test Acc.: 0.7960\n",
      "Training done.\n"
     ]
    }
   ],
   "source": [
    "#@title ## 1. Train Model\n",
    "\n",
    "Epoch = 30 #@param {type:\"integer\"}\n",
    "Batch_Size = 100 #@param {type:\"integer\"}\n",
    "\n",
    "train_histroy = {'train_cost': [], 'train_accuracy': [], 'test_accuracy': []}\n",
    "\n",
    "print('Training start...')\n",
    "with tf.Session() as session:\n",
    "    session.run(tf.global_variables_initializer())\n",
    "    \n",
    "    total_batch = x_train.shape[0] // Batch_Size\n",
    "\n",
    "    for epoch in range(Epoch):\n",
    "        total_cost_train = 0\n",
    "\n",
    "        for i in range(total_batch):\n",
    "            batch_x_train = x_train[i * Batch_Size : (i+1) * Batch_Size]\n",
    "            batch_y_train = y_train[i * Batch_Size : (i+1) * Batch_Size]\n",
    "            \n",
    "            feed_dict = {input_1: batch_x_train, label: batch_y_train}\n",
    "            _, cost_train, accuracy_train = session.run([optimizer, cost, accuracy], feed_dict=feed_dict)\n",
    "            total_cost_train += cost_train\n",
    "            \n",
    "        accuracy_test = session.run(accuracy, feed_dict={input_1: x_test, label: y_test})\n",
    "        \n",
    "        train_histroy['train_cost'].append(total_cost_train / total_batch);\n",
    "        train_histroy['train_accuracy'].append(accuracy_train);\n",
    "        train_histroy['test_accuracy'].append(accuracy_test);\n",
    "            \n",
    "        print('Epoch: {0:04d} - '.format(epoch + 1), end='')\n",
    "        print('Avg. cost: {0:.3f}, '.format(train_histroy['train_cost'][-1]), end='')\n",
    "        print('Train Acc.: {0:.4f}, '.format(train_histroy['train_accuracy'][-1]), end='')\n",
    "        print('Test Acc.: {0:.4f}'.format(train_histroy['test_accuracy'][-1]))\n",
    "\n",
    "    print('Training done.')"
   ]
  },
  {
   "cell_type": "code",
   "execution_count": 0,
   "metadata": {
    "id": "zfNqztObKpfj",
    "colab_type": "code",
    "cellView": "form",
    "outputId": "761726a8-ae5c-404f-d0e6-99051f7d0914",
    "colab": {
     "base_uri": "https://localhost:8080/",
     "height": 269.0
    }
   },
   "outputs": [
    {
     "data": {
      "image/png": "[encoded data removed]",
      "text/plain": [
       "<Figure size 432x288 with 1 Axes>"
      ]
     },
     "metadata": {
      "tags": []
     },
     "output_type": "display_data"
    }
   ],
   "source": [
    "#@title ## 2. Plot Train Result\n",
    "import matplotlib.pyplot as plt\n",
    "\n",
    "plt.plot(train_histroy['train_cost'])\n",
    "plt.plot(train_histroy['train_accuracy'])\n",
    "plt.plot(train_histroy['test_accuracy'])\n",
    "plt.show()"
   ]
  }
 ],
 "metadata": {
  "colab": {
   "name": "ResNet.ipynb",
   "version": "0.3.2",
   "provenance": [],
   "collapsed_sections": [],
   "toc_visible": true
  },
  "kernelspec": {
   "name": "python3",
   "display_name": "Python 3"
  },
  "accelerator": "GPU"
 },
 "nbformat": 4,
 "nbformat_minor": 0
}
